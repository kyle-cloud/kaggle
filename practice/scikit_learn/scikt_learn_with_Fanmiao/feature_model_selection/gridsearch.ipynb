{
 "metadata": {
  "language_info": {
   "codemirror_mode": {
    "name": "ipython",
    "version": 3
   },
   "file_extension": ".py",
   "mimetype": "text/x-python",
   "name": "python",
   "nbconvert_exporter": "python",
   "pygments_lexer": "ipython3",
   "version": "3.7.6-final"
  },
  "orig_nbformat": 2,
  "kernelspec": {
   "name": "python",
   "display_name": "Conda"
  }
 },
 "nbformat": 4,
 "nbformat_minor": 2,
 "cells": [
  {
   "source": [
    "# load data"
   ],
   "cell_type": "markdown",
   "metadata": {}
  },
  {
   "cell_type": "code",
   "execution_count": 2,
   "metadata": {},
   "outputs": [],
   "source": [
    "from sklearn.datasets import fetch_20newsgroups\n",
    "import numpy as np\n",
    "\n",
    "news = fetch_20newsgroups(subset='all')"
   ]
  },
  {
   "source": [
    "# preprocess data"
   ],
   "cell_type": "markdown",
   "metadata": {}
  },
  {
   "cell_type": "code",
   "execution_count": 5,
   "metadata": {},
   "outputs": [],
   "source": [
    "from sklearn.model_selection import train_test_split\n",
    "from sklearn.model_selection import GridSearchCV\n",
    "\n",
    "X_train, X_test, y_train, y_test = train_test_split(news.data[:3000], news.target[:3000], test_size=0.25, random_state=33)"
   ]
  },
  {
   "source": [
    "# learn data"
   ],
   "cell_type": "markdown",
   "metadata": {}
  },
  {
   "cell_type": "code",
   "execution_count": 11,
   "metadata": {},
   "outputs": [
    {
     "output_type": "stream",
     "name": "stdout",
     "text": [
      "Fitting 3 folds for each of 12 candidates, totalling 36 fits\n",
      "[CV] svc__C=0.1, svc__gamma=0.1 ......................................\n",
      "[Parallel(n_jobs=1)]: Using backend SequentialBackend with 1 concurrent workers.\n",
      "[CV] ....................... svc__C=0.1, svc__gamma=0.1, total=   7.0s\n",
      "[CV] svc__C=0.1, svc__gamma=0.1 ......................................\n",
      "[Parallel(n_jobs=1)]: Done   1 out of   1 | elapsed:    6.9s remaining:    0.0s\n",
      "[CV] ....................... svc__C=0.1, svc__gamma=0.1, total=   7.4s\n",
      "[CV] svc__C=0.1, svc__gamma=0.1 ......................................\n",
      "[CV] ....................... svc__C=0.1, svc__gamma=0.1, total=   7.1s\n",
      "[CV] svc__C=0.1, svc__gamma=0.46415888336127786 ......................\n",
      "[CV] ....... svc__C=0.1, svc__gamma=0.46415888336127786, total=   6.7s\n",
      "[CV] svc__C=0.1, svc__gamma=0.46415888336127786 ......................\n",
      "[CV] ....... svc__C=0.1, svc__gamma=0.46415888336127786, total=   6.5s\n",
      "[CV] svc__C=0.1, svc__gamma=0.46415888336127786 ......................\n",
      "[CV] ....... svc__C=0.1, svc__gamma=0.46415888336127786, total=   6.5s\n",
      "[CV] svc__C=0.1, svc__gamma=2.1544346900318834 .......................\n",
      "[CV] ........ svc__C=0.1, svc__gamma=2.1544346900318834, total=   6.4s\n",
      "[CV] svc__C=0.1, svc__gamma=2.1544346900318834 .......................\n",
      "[CV] ........ svc__C=0.1, svc__gamma=2.1544346900318834, total=   6.3s\n",
      "[CV] svc__C=0.1, svc__gamma=2.1544346900318834 .......................\n",
      "[CV] ........ svc__C=0.1, svc__gamma=2.1544346900318834, total=   6.3s\n",
      "[CV] svc__C=0.1, svc__gamma=10.0 .....................................\n",
      "[CV] ...................... svc__C=0.1, svc__gamma=10.0, total=   6.3s\n",
      "[CV] svc__C=0.1, svc__gamma=10.0 .....................................\n",
      "[CV] ...................... svc__C=0.1, svc__gamma=10.0, total=   6.3s\n",
      "[CV] svc__C=0.1, svc__gamma=10.0 .....................................\n",
      "[CV] ...................... svc__C=0.1, svc__gamma=10.0, total=   6.3s\n",
      "[CV] svc__C=1.0, svc__gamma=0.1 ......................................\n",
      "[CV] ....................... svc__C=1.0, svc__gamma=0.1, total=   6.5s\n",
      "[CV] svc__C=1.0, svc__gamma=0.1 ......................................\n",
      "[CV] ....................... svc__C=1.0, svc__gamma=0.1, total=   6.3s\n",
      "[CV] svc__C=1.0, svc__gamma=0.1 ......................................\n",
      "[CV] ....................... svc__C=1.0, svc__gamma=0.1, total=   6.8s\n",
      "[CV] svc__C=1.0, svc__gamma=0.46415888336127786 ......................\n",
      "[CV] ....... svc__C=1.0, svc__gamma=0.46415888336127786, total=   6.5s\n",
      "[CV] svc__C=1.0, svc__gamma=0.46415888336127786 ......................\n",
      "[CV] ....... svc__C=1.0, svc__gamma=0.46415888336127786, total=   7.2s\n",
      "[CV] svc__C=1.0, svc__gamma=0.46415888336127786 ......................\n",
      "[CV] ....... svc__C=1.0, svc__gamma=0.46415888336127786, total=   6.7s\n",
      "[CV] svc__C=1.0, svc__gamma=2.1544346900318834 .......................\n",
      "[CV] ........ svc__C=1.0, svc__gamma=2.1544346900318834, total=   6.6s\n",
      "[CV] svc__C=1.0, svc__gamma=2.1544346900318834 .......................\n",
      "[CV] ........ svc__C=1.0, svc__gamma=2.1544346900318834, total=   7.1s\n",
      "[CV] svc__C=1.0, svc__gamma=2.1544346900318834 .......................\n",
      "[CV] ........ svc__C=1.0, svc__gamma=2.1544346900318834, total=   6.7s\n",
      "[CV] svc__C=1.0, svc__gamma=10.0 .....................................\n",
      "[CV] ...................... svc__C=1.0, svc__gamma=10.0, total=   6.7s\n",
      "[CV] svc__C=1.0, svc__gamma=10.0 .....................................\n",
      "[CV] ...................... svc__C=1.0, svc__gamma=10.0, total=   6.5s\n",
      "[CV] svc__C=1.0, svc__gamma=10.0 .....................................\n",
      "[CV] ...................... svc__C=1.0, svc__gamma=10.0, total=   6.3s\n",
      "[CV] svc__C=10.0, svc__gamma=0.1 .....................................\n",
      "[CV] ...................... svc__C=10.0, svc__gamma=0.1, total=   6.1s\n",
      "[CV] svc__C=10.0, svc__gamma=0.1 .....................................\n",
      "[CV] ...................... svc__C=10.0, svc__gamma=0.1, total=   6.1s\n",
      "[CV] svc__C=10.0, svc__gamma=0.1 .....................................\n",
      "[CV] ...................... svc__C=10.0, svc__gamma=0.1, total=   6.1s\n",
      "[CV] svc__C=10.0, svc__gamma=0.46415888336127786 .....................\n",
      "[CV] ...... svc__C=10.0, svc__gamma=0.46415888336127786, total=   6.1s\n",
      "[CV] svc__C=10.0, svc__gamma=0.46415888336127786 .....................\n",
      "[CV] ...... svc__C=10.0, svc__gamma=0.46415888336127786, total=   6.1s\n",
      "[CV] svc__C=10.0, svc__gamma=0.46415888336127786 .....................\n",
      "[CV] ...... svc__C=10.0, svc__gamma=0.46415888336127786, total=   6.1s\n",
      "[CV] svc__C=10.0, svc__gamma=2.1544346900318834 ......................\n",
      "[CV] ....... svc__C=10.0, svc__gamma=2.1544346900318834, total=   6.2s\n",
      "[CV] svc__C=10.0, svc__gamma=2.1544346900318834 ......................\n",
      "[CV] ....... svc__C=10.0, svc__gamma=2.1544346900318834, total=   6.2s\n",
      "[CV] svc__C=10.0, svc__gamma=2.1544346900318834 ......................\n",
      "[CV] ....... svc__C=10.0, svc__gamma=2.1544346900318834, total=   6.2s\n",
      "[CV] svc__C=10.0, svc__gamma=10.0 ....................................\n",
      "[CV] ..................... svc__C=10.0, svc__gamma=10.0, total=   6.1s\n",
      "[CV] svc__C=10.0, svc__gamma=10.0 ....................................\n",
      "[CV] ..................... svc__C=10.0, svc__gamma=10.0, total=   6.2s\n",
      "[CV] svc__C=10.0, svc__gamma=10.0 ....................................\n",
      "[CV] ..................... svc__C=10.0, svc__gamma=10.0, total=   6.3s\n",
      "[Parallel(n_jobs=1)]: Done  36 out of  36 | elapsed:  3.9min finished\n",
      "Wall time: 4min 3s\n",
      "0.8226666666666667\n"
     ]
    }
   ],
   "source": [
    "from sklearn.svm import SVC\n",
    "from sklearn.feature_extraction.text import TfidfVectorizer\n",
    "from sklearn.pipeline import Pipeline\n",
    "\n",
    "clf = Pipeline([('vect', TfidfVectorizer(stop_words='english', analyzer='word')), ('svc', SVC())])\n",
    "parameters = {'svc__gamma': np.logspace(-1, 1, 4), 'svc__C': np.logspace(-1, 1, 3)}\n",
    "gs = GridSearchCV(clf, parameters, verbose=2, refit=True, cv=3)"
   ]
  },
  {
   "source": [
    "# predict data"
   ],
   "cell_type": "markdown",
   "metadata": {}
  },
  {
   "cell_type": "code",
   "execution_count": null,
   "metadata": {},
   "outputs": [],
   "source": [
    "%time _ = gs.fit(X_train, y_train)\n",
    "gs.best_params_, gs.best_score_\n",
    "print(gs.score(X_test, y_test))"
   ]
  },
  {
   "source": [
    "# lift performance"
   ],
   "cell_type": "markdown",
   "metadata": {}
  },
  {
   "cell_type": "code",
   "execution_count": 13,
   "metadata": {},
   "outputs": [
    {
     "output_type": "stream",
     "name": "stdout",
     "text": [
      "Fitting 3 folds for each of 12 candidates, totalling 36 fits\n",
      "[Parallel(n_jobs=-1)]: Using backend LokyBackend with 4 concurrent workers.\n",
      "[Parallel(n_jobs=-1)]: Done  36 out of  36 | elapsed:  1.7min finished\n",
      "Wall time: 1min 50s\n",
      "0.8226666666666667\n"
     ]
    }
   ],
   "source": [
    "# 多线程\n",
    "from sklearn.model_selection import train_test_split\n",
    "from sklearn.model_selection import GridSearchCV\n",
    "\n",
    "X_train, X_test, y_train, y_test = train_test_split(news.data[:3000], news.target[:3000], test_size=0.25, random_state=33)\n",
    "\n",
    "from sklearn.svm import SVC\n",
    "from sklearn.feature_extraction.text import TfidfVectorizer\n",
    "from sklearn.pipeline import Pipeline\n",
    "\n",
    "clf = Pipeline([('vect', TfidfVectorizer(stop_words='english', analyzer='word')), ('svc', SVC())])\n",
    "parameters = {'svc__gamma': np.logspace(-1, 1, 4), 'svc__C': np.logspace(-1, 1, 3)}\n",
    "gs = GridSearchCV(clf, parameters, verbose=2, refit=True, cv=3, n_jobs=-1)\n",
    "\n",
    "%time _ = gs.fit(X_train, y_train)\n",
    "gs.best_params_, gs.best_score_\n",
    "print(gs.score(X_test, y_test))"
   ]
  },
  {
   "cell_type": "code",
   "execution_count": null,
   "metadata": {},
   "outputs": [],
   "source": []
  }
 ]
}