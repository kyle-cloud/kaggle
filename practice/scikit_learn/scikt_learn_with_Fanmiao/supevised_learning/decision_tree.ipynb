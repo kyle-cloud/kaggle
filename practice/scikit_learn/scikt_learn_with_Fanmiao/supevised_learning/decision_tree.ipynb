{
 "metadata": {
  "language_info": {
   "codemirror_mode": {
    "name": "ipython",
    "version": 3
   },
   "file_extension": ".py",
   "mimetype": "text/x-python",
   "name": "python",
   "nbconvert_exporter": "python",
   "pygments_lexer": "ipython3",
   "version": "3.7.6-final"
  },
  "orig_nbformat": 2,
  "kernelspec": {
   "name": "python",
   "display_name": "Conda"
  }
 },
 "nbformat": 4,
 "nbformat_minor": 2,
 "cells": [
  {
   "source": [
    "# load data"
   ],
   "cell_type": "markdown",
   "metadata": {}
  },
  {
   "cell_type": "code",
   "execution_count": 6,
   "metadata": {},
   "outputs": [],
   "source": [
    "import pandas as pd\n",
    "import numpy as np\n",
    "\n",
    "titanic = pd.read_csv('http://biostat.mc.vanderbilt.edu/wiki/pub/Main/DataSets/titanic.txt')"
   ]
  },
  {
   "cell_type": "code",
   "execution_count": 7,
   "metadata": {},
   "outputs": [
    {
     "output_type": "execute_result",
     "data": {
      "text/plain": [
       "   row.names pclass  survived  \\\n",
       "0          1    1st         1   \n",
       "1          2    1st         0   \n",
       "2          3    1st         0   \n",
       "3          4    1st         0   \n",
       "4          5    1st         1   \n",
       "\n",
       "                                              name      age     embarked  \\\n",
       "0                     Allen, Miss Elisabeth Walton  29.0000  Southampton   \n",
       "1                      Allison, Miss Helen Loraine   2.0000  Southampton   \n",
       "2              Allison, Mr Hudson Joshua Creighton  30.0000  Southampton   \n",
       "3  Allison, Mrs Hudson J.C. (Bessie Waldo Daniels)  25.0000  Southampton   \n",
       "4                    Allison, Master Hudson Trevor   0.9167  Southampton   \n",
       "\n",
       "                         home.dest room      ticket   boat     sex  \n",
       "0                     St Louis, MO  B-5  24160 L221      2  female  \n",
       "1  Montreal, PQ / Chesterville, ON  C26         NaN    NaN  female  \n",
       "2  Montreal, PQ / Chesterville, ON  C26         NaN  (135)    male  \n",
       "3  Montreal, PQ / Chesterville, ON  C26         NaN    NaN  female  \n",
       "4  Montreal, PQ / Chesterville, ON  C22         NaN     11    male  "
      ],
      "text/html": "<div>\n<style scoped>\n    .dataframe tbody tr th:only-of-type {\n        vertical-align: middle;\n    }\n\n    .dataframe tbody tr th {\n        vertical-align: top;\n    }\n\n    .dataframe thead th {\n        text-align: right;\n    }\n</style>\n<table border=\"1\" class=\"dataframe\">\n  <thead>\n    <tr style=\"text-align: right;\">\n      <th></th>\n      <th>row.names</th>\n      <th>pclass</th>\n      <th>survived</th>\n      <th>name</th>\n      <th>age</th>\n      <th>embarked</th>\n      <th>home.dest</th>\n      <th>room</th>\n      <th>ticket</th>\n      <th>boat</th>\n      <th>sex</th>\n    </tr>\n  </thead>\n  <tbody>\n    <tr>\n      <th>0</th>\n      <td>1</td>\n      <td>1st</td>\n      <td>1</td>\n      <td>Allen, Miss Elisabeth Walton</td>\n      <td>29.0000</td>\n      <td>Southampton</td>\n      <td>St Louis, MO</td>\n      <td>B-5</td>\n      <td>24160 L221</td>\n      <td>2</td>\n      <td>female</td>\n    </tr>\n    <tr>\n      <th>1</th>\n      <td>2</td>\n      <td>1st</td>\n      <td>0</td>\n      <td>Allison, Miss Helen Loraine</td>\n      <td>2.0000</td>\n      <td>Southampton</td>\n      <td>Montreal, PQ / Chesterville, ON</td>\n      <td>C26</td>\n      <td>NaN</td>\n      <td>NaN</td>\n      <td>female</td>\n    </tr>\n    <tr>\n      <th>2</th>\n      <td>3</td>\n      <td>1st</td>\n      <td>0</td>\n      <td>Allison, Mr Hudson Joshua Creighton</td>\n      <td>30.0000</td>\n      <td>Southampton</td>\n      <td>Montreal, PQ / Chesterville, ON</td>\n      <td>C26</td>\n      <td>NaN</td>\n      <td>(135)</td>\n      <td>male</td>\n    </tr>\n    <tr>\n      <th>3</th>\n      <td>4</td>\n      <td>1st</td>\n      <td>0</td>\n      <td>Allison, Mrs Hudson J.C. (Bessie Waldo Daniels)</td>\n      <td>25.0000</td>\n      <td>Southampton</td>\n      <td>Montreal, PQ / Chesterville, ON</td>\n      <td>C26</td>\n      <td>NaN</td>\n      <td>NaN</td>\n      <td>female</td>\n    </tr>\n    <tr>\n      <th>4</th>\n      <td>5</td>\n      <td>1st</td>\n      <td>1</td>\n      <td>Allison, Master Hudson Trevor</td>\n      <td>0.9167</td>\n      <td>Southampton</td>\n      <td>Montreal, PQ / Chesterville, ON</td>\n      <td>C22</td>\n      <td>NaN</td>\n      <td>11</td>\n      <td>male</td>\n    </tr>\n  </tbody>\n</table>\n</div>"
     },
     "metadata": {},
     "execution_count": 7
    }
   ],
   "source": [
    "titanic.head()"
   ]
  },
  {
   "cell_type": "code",
   "execution_count": 8,
   "metadata": {},
   "outputs": [
    {
     "output_type": "stream",
     "name": "stdout",
     "text": [
      "<class 'pandas.core.frame.DataFrame'>\nRangeIndex: 1313 entries, 0 to 1312\nData columns (total 11 columns):\nrow.names    1313 non-null int64\npclass       1313 non-null object\nsurvived     1313 non-null int64\nname         1313 non-null object\nage          633 non-null float64\nembarked     821 non-null object\nhome.dest    754 non-null object\nroom         77 non-null object\nticket       69 non-null object\nboat         347 non-null object\nsex          1313 non-null object\ndtypes: float64(1), int64(2), object(8)\nmemory usage: 113.0+ KB\n"
     ]
    }
   ],
   "source": [
    "titanic.info()"
   ]
  },
  {
   "cell_type": "code",
   "execution_count": 10,
   "metadata": {},
   "outputs": [],
   "source": [
    "X = titanic[['pclass', 'age', 'sex']]\n",
    "y = titanic['survived']"
   ]
  },
  {
   "cell_type": "code",
   "execution_count": 11,
   "metadata": {},
   "outputs": [
    {
     "output_type": "stream",
     "name": "stdout",
     "text": [
      "<class 'pandas.core.frame.DataFrame'>\nRangeIndex: 1313 entries, 0 to 1312\nData columns (total 3 columns):\npclass    1313 non-null object\nage       633 non-null float64\nsex       1313 non-null object\ndtypes: float64(1), object(2)\nmemory usage: 30.9+ KB\n"
     ]
    }
   ],
   "source": [
    "X.info()"
   ]
  },
  {
   "source": [
    "# preprocess data"
   ],
   "cell_type": "markdown",
   "metadata": {}
  },
  {
   "cell_type": "code",
   "execution_count": 13,
   "metadata": {},
   "outputs": [],
   "source": [
    "X['age'].fillna(X['age'].mean(), inplace=True)"
   ]
  },
  {
   "cell_type": "code",
   "execution_count": 17,
   "metadata": {},
   "outputs": [
    {
     "output_type": "stream",
     "name": "stdout",
     "text": [
      "<class 'pandas.core.frame.DataFrame'>\nRangeIndex: 1313 entries, 0 to 1312\nData columns (total 3 columns):\npclass    1313 non-null object\nage       1313 non-null float64\nsex       1313 non-null object\ndtypes: float64(1), object(2)\nmemory usage: 30.9+ KB\n"
     ]
    }
   ],
   "source": [
    "X.info()"
   ]
  },
  {
   "cell_type": "code",
   "execution_count": 18,
   "metadata": {},
   "outputs": [],
   "source": [
    "from sklearn.model_selection import train_test_split\n",
    "\n",
    "X_train, X_test, y_train, y_test = train_test_split(X, y, test_size=0.25, random_state=33)"
   ]
  },
  {
   "cell_type": "code",
   "execution_count": 19,
   "metadata": {},
   "outputs": [
    {
     "output_type": "stream",
     "name": "stdout",
     "text": [
      "['age', 'pclass=1st', 'pclass=2nd', 'pclass=3rd', 'sex=female', 'sex=male']\n"
     ]
    }
   ],
   "source": [
    "from sklearn.feature_extraction import DictVectorizer\n",
    "\n",
    "vec = DictVectorizer(sparse=False)\n",
    "X_train = vec.fit_transform(X_train.to_dict(orient='record'))\n",
    "print(vec.feature_names_)"
   ]
  },
  {
   "cell_type": "code",
   "execution_count": 20,
   "metadata": {},
   "outputs": [],
   "source": [
    "X_test = vec.transform(X_test.to_dict(orient='record'))"
   ]
  },
  {
   "source": [
    "# learn data"
   ],
   "cell_type": "markdown",
   "metadata": {}
  },
  {
   "cell_type": "code",
   "execution_count": 23,
   "metadata": {},
   "outputs": [
    {
     "output_type": "stream",
     "name": "stdout",
     "text": [
      "0.7933130699088146\n",
      "0.7872340425531915\n",
      "0.790273556231003\n"
     ]
    }
   ],
   "source": [
    "from sklearn.tree import DecisionTreeClassifier\n",
    "from sklearn.ensemble import RandomForestClassifier, GradientBoostingClassifier\n",
    "\n",
    "dtc = DecisionTreeClassifier(criterion='entropy', max_depth=3, min_samples_leaf=5)\n",
    "rfc = RandomForestClassifier(max_depth=3, min_samples_leaf=5)\n",
    "gbc = GradientBoostingClassifier(max_depth=3, min_samples_leaf=5)\n",
    "\n",
    "clfs = [dtc, rfc, gbc]\n",
    "for clf in clfs:\n",
    "    clf.fit(X_train, y_train)\n",
    "    print(clf.score(X_test, y_test))"
   ]
  },
  {
   "source": [
    "# predict data"
   ],
   "cell_type": "markdown",
   "metadata": {}
  },
  {
   "cell_type": "code",
   "execution_count": 24,
   "metadata": {},
   "outputs": [
    {
     "output_type": "stream",
     "name": "stdout",
     "text": [
      "              precision    recall  f1-score   support\n\n           0       0.93      0.78      0.84       241\n           1       0.57      0.83      0.68        88\n\n    accuracy                           0.79       329\n   macro avg       0.75      0.80      0.76       329\nweighted avg       0.83      0.79      0.80       329\n\n"
     ]
    }
   ],
   "source": [
    "from sklearn.metrics import classification_report\n",
    "\n",
    "y_predict = gbc.predict(X_test)\n",
    "print(classification_report(y_predict, y_test))"
   ]
  },
  {
   "source": [
    "# cross validation score"
   ],
   "cell_type": "markdown",
   "metadata": {}
  },
  {
   "cell_type": "code",
   "execution_count": null,
   "metadata": {},
   "outputs": [],
   "source": []
  },
  {
   "cell_type": "code",
   "execution_count": null,
   "metadata": {},
   "outputs": [],
   "source": []
  }
 ]
}